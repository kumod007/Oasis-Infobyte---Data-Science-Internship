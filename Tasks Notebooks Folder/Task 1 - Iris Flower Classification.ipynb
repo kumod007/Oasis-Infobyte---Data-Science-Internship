{
 "cells": [
  {
   "cell_type": "markdown",
   "id": "689e2876",
   "metadata": {},
   "source": [
    "<div style=\"color:white;\n",
    "           display:fill;\n",
    "           border-radius:5px;\n",
    "           background-color:brown;\n",
    "           font-size:200%;\n",
    "           font-family:Serif;\n",
    "           letter-spacing:0.5px\">\n",
    "\n",
    "<p style=\"padding: 10px;\n",
    "          color:white;\n",
    "          font-size:120%;\n",
    "          text-align:center;\">\n",
    "Iris Flower Classification\n",
    "</p>\n",
    "</div>"
   ]
  },
  {
   "cell_type": "markdown",
   "id": "7172d112",
   "metadata": {},
   "source": [
    "<div style=\"font-family:Georgia;background-color:aliceblue; padding:30px; font-size:17px\">\n",
    "\n",
    "<b>Task 1 Objective:- Iris Flower Classification using Machine Learning<br>\n",
    "\n",
    "<b>Description</b><br>\n",
    "\n",
    "💡 Iris flower has three species; setosa, versicolor, and virginica, which differs according to their\n",
    "measurements.<br>\n",
    "💡 The measurements of the iris flowers according to their species are given in the dataset.<br>\n",
    "💡 In this notebook we will train a machine learning model that can learn from the measurements of the iris species and classify them. \n",
    "💡 Dataset Link:- https://www.kaggle.com/datasets/saurabh00007/iriscsv\n",
    "\n",
    "<a id=\"1.3\"></a>\n",
    "<h2 style=\"font-family: Verdana; font-size: 22px; font-style: normal; font-weight: normal; text-decoration: none; text-transform: none; letter-spacing: 2px; color: black; background-color:aliceblue;\"><b> Author:- </b> Kumod Sharma</h2>\n",
    "</div>"
   ]
  },
  {
   "cell_type": "markdown",
   "id": "9f58cbb7",
   "metadata": {},
   "source": [
    "<center>\n",
    "<img src=\"https://www.gardendesign.com/pictures/images/900x705Max/site_3/iris-sibirica-ruffled-velvet-iris-purple-flower-beardless-siberian-iris-alamy-stock-photo_12591.jpg\" width=500 height=400 />\n",
    "</center>"
   ]
  },
  {
   "cell_type": "markdown",
   "id": "95da62c0",
   "metadata": {},
   "source": [
    "----"
   ]
  },
  {
   "cell_type": "markdown",
   "id": "972cf59d",
   "metadata": {},
   "source": [
    "<div style=\"color:white;\n",
    "           display:fill;\n",
    "           border-radius:5px;\n",
    "           background-color:black;\n",
    "           font-size:200%;\n",
    "           font-family:Serif;\n",
    "           letter-spacing:0.5px\">\n",
    "\n",
    "<p style=\"padding: 10px;\n",
    "          color:white;\n",
    "          font-size:120%;\n",
    "          text-align:center;\">\n",
    "Importing Libraries\n",
    "</p>\n",
    "</div>"
   ]
  },
  {
   "cell_type": "code",
   "execution_count": 1,
   "id": "e76f790e",
   "metadata": {},
   "outputs": [],
   "source": [
    "import numpy as np\n",
    "import pandas as pd\n",
    "import matplotlib.pyplot as plt\n",
    "import seaborn as sns\n",
    "import warnings\n",
    "warnings.filterwarnings(\"ignore\")\n",
    "%matplotlib inline\n",
    "sns.set(style=\"darkgrid\",font_scale=1.5)\n",
    "\n",
    "from sklearn.linear_model import LogisticRegression\n",
    "from sklearn.impute import SimpleImputer\n",
    "from sklearn.model_selection import train_test_split\n",
    "from sklearn.metrics import accuracy_score, f1_score, recall_score, precision_score, confusion_matrix"
   ]
  },
  {
   "cell_type": "markdown",
   "id": "4fc9eac1",
   "metadata": {},
   "source": [
    "<div style=\"color:white;\n",
    "           display:fill;\n",
    "           border-radius:5px;\n",
    "           background-color:black;\n",
    "           font-size:200%;\n",
    "           font-family:Serif;\n",
    "           letter-spacing:0.5px\">\n",
    "\n",
    "<p style=\"padding: 10px;\n",
    "          color:white;\n",
    "          font-size:120%;\n",
    "          text-align:center;\">\n",
    "Loading Datasets\n",
    "</p>\n",
    "</div>"
   ]
  },
  {
   "cell_type": "code",
   "execution_count": 2,
   "id": "ae5e5163",
   "metadata": {},
   "outputs": [],
   "source": [
    "df = pd.read_csv(\"C:\\\\Users\\\\kumod sharma\\\\Desktop\\\\Iris.csv\")"
   ]
  },
  {
   "cell_type": "code",
   "execution_count": 3,
   "id": "c3a0e588",
   "metadata": {},
   "outputs": [
    {
     "data": {
      "text/html": [
       "<div>\n",
       "<style scoped>\n",
       "    .dataframe tbody tr th:only-of-type {\n",
       "        vertical-align: middle;\n",
       "    }\n",
       "\n",
       "    .dataframe tbody tr th {\n",
       "        vertical-align: top;\n",
       "    }\n",
       "\n",
       "    .dataframe thead th {\n",
       "        text-align: right;\n",
       "    }\n",
       "</style>\n",
       "<table border=\"1\" class=\"dataframe\">\n",
       "  <thead>\n",
       "    <tr style=\"text-align: right;\">\n",
       "      <th></th>\n",
       "      <th>Id</th>\n",
       "      <th>SepalLengthCm</th>\n",
       "      <th>SepalWidthCm</th>\n",
       "      <th>PetalLengthCm</th>\n",
       "      <th>PetalWidthCm</th>\n",
       "      <th>Species</th>\n",
       "    </tr>\n",
       "  </thead>\n",
       "  <tbody>\n",
       "    <tr>\n",
       "      <th>0</th>\n",
       "      <td>1</td>\n",
       "      <td>5.1</td>\n",
       "      <td>3.5</td>\n",
       "      <td>1.4</td>\n",
       "      <td>0.2</td>\n",
       "      <td>Iris-setosa</td>\n",
       "    </tr>\n",
       "    <tr>\n",
       "      <th>1</th>\n",
       "      <td>2</td>\n",
       "      <td>4.9</td>\n",
       "      <td>3.0</td>\n",
       "      <td>1.4</td>\n",
       "      <td>0.2</td>\n",
       "      <td>Iris-setosa</td>\n",
       "    </tr>\n",
       "    <tr>\n",
       "      <th>2</th>\n",
       "      <td>3</td>\n",
       "      <td>4.7</td>\n",
       "      <td>3.2</td>\n",
       "      <td>1.3</td>\n",
       "      <td>0.2</td>\n",
       "      <td>Iris-setosa</td>\n",
       "    </tr>\n",
       "    <tr>\n",
       "      <th>3</th>\n",
       "      <td>4</td>\n",
       "      <td>4.6</td>\n",
       "      <td>3.1</td>\n",
       "      <td>1.5</td>\n",
       "      <td>0.2</td>\n",
       "      <td>Iris-setosa</td>\n",
       "    </tr>\n",
       "    <tr>\n",
       "      <th>4</th>\n",
       "      <td>5</td>\n",
       "      <td>5.0</td>\n",
       "      <td>3.6</td>\n",
       "      <td>1.4</td>\n",
       "      <td>0.2</td>\n",
       "      <td>Iris-setosa</td>\n",
       "    </tr>\n",
       "  </tbody>\n",
       "</table>\n",
       "</div>"
      ],
      "text/plain": [
       "   Id  SepalLengthCm  SepalWidthCm  PetalLengthCm  PetalWidthCm      Species\n",
       "0   1            5.1           3.5            1.4           0.2  Iris-setosa\n",
       "1   2            4.9           3.0            1.4           0.2  Iris-setosa\n",
       "2   3            4.7           3.2            1.3           0.2  Iris-setosa\n",
       "3   4            4.6           3.1            1.5           0.2  Iris-setosa\n",
       "4   5            5.0           3.6            1.4           0.2  Iris-setosa"
      ]
     },
     "execution_count": 3,
     "metadata": {},
     "output_type": "execute_result"
    }
   ],
   "source": [
    "df.head()"
   ]
  },
  {
   "cell_type": "code",
   "execution_count": 4,
   "id": "d016503a",
   "metadata": {},
   "outputs": [
    {
     "data": {
      "text/html": [
       "<div>\n",
       "<style scoped>\n",
       "    .dataframe tbody tr th:only-of-type {\n",
       "        vertical-align: middle;\n",
       "    }\n",
       "\n",
       "    .dataframe tbody tr th {\n",
       "        vertical-align: top;\n",
       "    }\n",
       "\n",
       "    .dataframe thead th {\n",
       "        text-align: right;\n",
       "    }\n",
       "</style>\n",
       "<table border=\"1\" class=\"dataframe\">\n",
       "  <thead>\n",
       "    <tr style=\"text-align: right;\">\n",
       "      <th></th>\n",
       "      <th>Id</th>\n",
       "      <th>SepalLengthCm</th>\n",
       "      <th>SepalWidthCm</th>\n",
       "      <th>PetalLengthCm</th>\n",
       "      <th>PetalWidthCm</th>\n",
       "      <th>Species</th>\n",
       "    </tr>\n",
       "  </thead>\n",
       "  <tbody>\n",
       "    <tr>\n",
       "      <th>145</th>\n",
       "      <td>146</td>\n",
       "      <td>6.7</td>\n",
       "      <td>3.0</td>\n",
       "      <td>5.2</td>\n",
       "      <td>2.3</td>\n",
       "      <td>Iris-virginica</td>\n",
       "    </tr>\n",
       "    <tr>\n",
       "      <th>146</th>\n",
       "      <td>147</td>\n",
       "      <td>6.3</td>\n",
       "      <td>2.5</td>\n",
       "      <td>5.0</td>\n",
       "      <td>1.9</td>\n",
       "      <td>Iris-virginica</td>\n",
       "    </tr>\n",
       "    <tr>\n",
       "      <th>147</th>\n",
       "      <td>148</td>\n",
       "      <td>6.5</td>\n",
       "      <td>3.0</td>\n",
       "      <td>5.2</td>\n",
       "      <td>2.0</td>\n",
       "      <td>Iris-virginica</td>\n",
       "    </tr>\n",
       "    <tr>\n",
       "      <th>148</th>\n",
       "      <td>149</td>\n",
       "      <td>6.2</td>\n",
       "      <td>3.4</td>\n",
       "      <td>5.4</td>\n",
       "      <td>2.3</td>\n",
       "      <td>Iris-virginica</td>\n",
       "    </tr>\n",
       "    <tr>\n",
       "      <th>149</th>\n",
       "      <td>150</td>\n",
       "      <td>5.9</td>\n",
       "      <td>3.0</td>\n",
       "      <td>5.1</td>\n",
       "      <td>1.8</td>\n",
       "      <td>Iris-virginica</td>\n",
       "    </tr>\n",
       "  </tbody>\n",
       "</table>\n",
       "</div>"
      ],
      "text/plain": [
       "      Id  SepalLengthCm  SepalWidthCm  PetalLengthCm  PetalWidthCm  \\\n",
       "145  146            6.7           3.0            5.2           2.3   \n",
       "146  147            6.3           2.5            5.0           1.9   \n",
       "147  148            6.5           3.0            5.2           2.0   \n",
       "148  149            6.2           3.4            5.4           2.3   \n",
       "149  150            5.9           3.0            5.1           1.8   \n",
       "\n",
       "            Species  \n",
       "145  Iris-virginica  \n",
       "146  Iris-virginica  \n",
       "147  Iris-virginica  \n",
       "148  Iris-virginica  \n",
       "149  Iris-virginica  "
      ]
     },
     "execution_count": 4,
     "metadata": {},
     "output_type": "execute_result"
    }
   ],
   "source": [
    "df.tail()"
   ]
  },
  {
   "cell_type": "markdown",
   "id": "e99cfc85",
   "metadata": {},
   "source": [
    "---"
   ]
  },
  {
   "cell_type": "markdown",
   "id": "afae261b",
   "metadata": {},
   "source": [
    "<div style=\"color:white;\n",
    "           display:fill;\n",
    "           border-radius:5px;\n",
    "           background-color:black;\n",
    "           font-size:200%;\n",
    "           font-family:Serif;\n",
    "           letter-spacing:0.5px\">\n",
    "\n",
    "<p style=\"padding: 10px;\n",
    "          color:white;\n",
    "          font-size:120%;\n",
    "          text-align:center;\">\n",
    "Basic Understanding of Data\n",
    "</p>\n",
    "</div>"
   ]
  },
  {
   "cell_type": "markdown",
   "id": "81203451",
   "metadata": {},
   "source": [
    "### 1. Checking Dimensions of the Data."
   ]
  },
  {
   "cell_type": "code",
   "execution_count": 6,
   "id": "8de7f331",
   "metadata": {},
   "outputs": [
    {
     "data": {
      "text/plain": [
       "(150, 6)"
      ]
     },
     "execution_count": 6,
     "metadata": {},
     "output_type": "execute_result"
    }
   ],
   "source": [
    "df.shape"
   ]
  },
  {
   "cell_type": "markdown",
   "id": "6f5ed6ce",
   "metadata": {},
   "source": [
    "**Observation**\n",
    "1. From the above output we can say that there is **150 rows/records** and **6 columns/Features** present in our dataset."
   ]
  },
  {
   "cell_type": "markdown",
   "id": "d102c096",
   "metadata": {},
   "source": [
    "### 2. Checking the Data-Types of the Features."
   ]
  },
  {
   "cell_type": "code",
   "execution_count": 9,
   "id": "3d228da6",
   "metadata": {},
   "outputs": [
    {
     "data": {
      "text/html": [
       "<div>\n",
       "<style scoped>\n",
       "    .dataframe tbody tr th:only-of-type {\n",
       "        vertical-align: middle;\n",
       "    }\n",
       "\n",
       "    .dataframe tbody tr th {\n",
       "        vertical-align: top;\n",
       "    }\n",
       "\n",
       "    .dataframe thead th {\n",
       "        text-align: right;\n",
       "    }\n",
       "</style>\n",
       "<table border=\"1\" class=\"dataframe\">\n",
       "  <thead>\n",
       "    <tr style=\"text-align: right;\">\n",
       "      <th></th>\n",
       "      <th>Data-Types</th>\n",
       "    </tr>\n",
       "  </thead>\n",
       "  <tbody>\n",
       "    <tr>\n",
       "      <th>Id</th>\n",
       "      <td>int64</td>\n",
       "    </tr>\n",
       "    <tr>\n",
       "      <th>SepalLengthCm</th>\n",
       "      <td>float64</td>\n",
       "    </tr>\n",
       "    <tr>\n",
       "      <th>SepalWidthCm</th>\n",
       "      <td>float64</td>\n",
       "    </tr>\n",
       "    <tr>\n",
       "      <th>PetalLengthCm</th>\n",
       "      <td>float64</td>\n",
       "    </tr>\n",
       "    <tr>\n",
       "      <th>PetalWidthCm</th>\n",
       "      <td>float64</td>\n",
       "    </tr>\n",
       "    <tr>\n",
       "      <th>Species</th>\n",
       "      <td>object</td>\n",
       "    </tr>\n",
       "  </tbody>\n",
       "</table>\n",
       "</div>"
      ],
      "text/plain": [
       "              Data-Types\n",
       "Id                 int64\n",
       "SepalLengthCm    float64\n",
       "SepalWidthCm     float64\n",
       "PetalLengthCm    float64\n",
       "PetalWidthCm     float64\n",
       "Species           object"
      ]
     },
     "execution_count": 9,
     "metadata": {},
     "output_type": "execute_result"
    }
   ],
   "source": [
    "df.dtypes.to_frame().rename(columns={0:\"Data-Types\"})"
   ]
  },
  {
   "cell_type": "markdown",
   "id": "7798ad1b",
   "metadata": {},
   "source": [
    "**Observation**\n",
    "1. From above output we can observe that except the **species feature** all the features are having **numerical** data-types.\n",
    "2. All the features are having correct data-types. So we don't have to do any changes."
   ]
  },
  {
   "cell_type": "markdown",
   "id": "9daaa4b0",
   "metadata": {},
   "source": [
    "### 3. Checking NaN values in our Dataset."
   ]
  },
  {
   "cell_type": "code",
   "execution_count": 11,
   "id": "338e94a1",
   "metadata": {},
   "outputs": [
    {
     "data": {
      "text/html": [
       "<div>\n",
       "<style scoped>\n",
       "    .dataframe tbody tr th:only-of-type {\n",
       "        vertical-align: middle;\n",
       "    }\n",
       "\n",
       "    .dataframe tbody tr th {\n",
       "        vertical-align: top;\n",
       "    }\n",
       "\n",
       "    .dataframe thead th {\n",
       "        text-align: right;\n",
       "    }\n",
       "</style>\n",
       "<table border=\"1\" class=\"dataframe\">\n",
       "  <thead>\n",
       "    <tr style=\"text-align: right;\">\n",
       "      <th></th>\n",
       "      <th>Total No. of Missing Values</th>\n",
       "    </tr>\n",
       "  </thead>\n",
       "  <tbody>\n",
       "    <tr>\n",
       "      <th>Id</th>\n",
       "      <td>0</td>\n",
       "    </tr>\n",
       "    <tr>\n",
       "      <th>SepalLengthCm</th>\n",
       "      <td>0</td>\n",
       "    </tr>\n",
       "    <tr>\n",
       "      <th>SepalWidthCm</th>\n",
       "      <td>0</td>\n",
       "    </tr>\n",
       "    <tr>\n",
       "      <th>PetalLengthCm</th>\n",
       "      <td>0</td>\n",
       "    </tr>\n",
       "    <tr>\n",
       "      <th>PetalWidthCm</th>\n",
       "      <td>0</td>\n",
       "    </tr>\n",
       "    <tr>\n",
       "      <th>Species</th>\n",
       "      <td>0</td>\n",
       "    </tr>\n",
       "  </tbody>\n",
       "</table>\n",
       "</div>"
      ],
      "text/plain": [
       "               Total No. of Missing Values\n",
       "Id                                       0\n",
       "SepalLengthCm                            0\n",
       "SepalWidthCm                             0\n",
       "PetalLengthCm                            0\n",
       "PetalWidthCm                             0\n",
       "Species                                  0"
      ]
     },
     "execution_count": 11,
     "metadata": {},
     "output_type": "execute_result"
    }
   ],
   "source": [
    "df.isnull().sum().to_frame().rename(columns={0:\"Total No. of Missing Values\"})"
   ]
  },
  {
   "cell_type": "markdown",
   "id": "91568b07",
   "metadata": {},
   "source": [
    "**Observation**\n",
    "1. We can observe that **none of the features is having Missing values**."
   ]
  },
  {
   "cell_type": "markdown",
   "id": "9fcb97ab",
   "metadata": {},
   "source": [
    "### 4. Checking Duplicate Values."
   ]
  },
  {
   "cell_type": "code",
   "execution_count": 13,
   "id": "c1ee83f7",
   "metadata": {},
   "outputs": [
    {
     "data": {
      "text/plain": [
       "0"
      ]
     },
     "execution_count": 13,
     "metadata": {},
     "output_type": "execute_result"
    }
   ],
   "source": [
    "df.duplicated().sum()"
   ]
  },
  {
   "cell_type": "markdown",
   "id": "dcf42baa",
   "metadata": {},
   "source": [
    "**Observation**\n",
    "1. From the above output we can say that there is **no duplicate** records present in our dataset."
   ]
  },
  {
   "cell_type": "markdown",
   "id": "59938a5a",
   "metadata": {},
   "source": [
    "---"
   ]
  },
  {
   "cell_type": "markdown",
   "id": "7db36c6c",
   "metadata": {},
   "source": [
    "<div style=\"color:white;\n",
    "           display:fill;\n",
    "           border-radius:5px;\n",
    "           background-color:black;\n",
    "           font-size:200%;\n",
    "           font-family:Serif;\n",
    "           letter-spacing:0.5px\">\n",
    "\n",
    "<p style=\"padding: 10px;\n",
    "          color:white;\n",
    "          font-size:120%;\n",
    "          text-align:center;\">\n",
    "Exploratory Data Analysis (EDA)\n",
    "</p>\n",
    "</div>"
   ]
  },
  {
   "cell_type": "markdown",
   "id": "f378d824",
   "metadata": {},
   "source": [
    "plot"
   ]
  },
  {
   "cell_type": "code",
   "execution_count": 30,
   "id": "00eb3896",
   "metadata": {},
   "outputs": [
    {
     "data": {
      "image/png": "[encoded data removed]",
      "text/plain": [
       "<Figure size 1080x360 with 1 Axes>"
      ]
     },
     "metadata": {},
     "output_type": "display_data"
    }
   ],
   "source": [
    "plt.figure(figsize=(15,5))\n",
    "sns.countplot(df[\"Species\"],data=df,palette=\"Set2\")\n",
    "plt.title(\"Iris Species Distribution\",pad=20)\n",
    "plt.show()"
   ]
  },
  {
   "cell_type": "markdown",
   "id": "35746523",
   "metadata": {},
   "source": [
    "**Observation**\n",
    "1. We can observe that all the species are having **equal records**.\n",
    "2. So we can make a conclusion that our target is having **class-balanced**.\n",
    "3. So we don't have to use techniques like **over_sampling or under_Sampling**."
   ]
  },
  {
   "cell_type": "markdown",
   "id": "53e1ce65",
   "metadata": {},
   "source": [
    "---"
   ]
  },
  {
   "cell_type": "markdown",
   "id": "a29c7826",
   "metadata": {},
   "source": [
    "### 2. Visualizing the \"SepalLength\" & \"SepalWidth\" Features w.r.t Species Feature."
   ]
  },
  {
   "cell_type": "code",
   "execution_count": 63,
   "id": "bd667f2e",
   "metadata": {},
   "outputs": [
    {
     "data": {
      "image/png": "[encoded data removed]",
      "text/plain": [
       "<Figure size 1296x432 with 2 Axes>"
      ]
     },
     "metadata": {},
     "output_type": "display_data"
    }
   ],
   "source": [
    "plt.figure(figsize=(18,6))\n",
    "plt.subplot(1,2,1)\n",
    "sns.scatterplot(\"Species\",\"SepalLengthCm\",data=df,hue=\"Species\",palette=\"Set2\")\n",
    "plt.title(\"SepalLength  VS  Species\",pad=20,fontweight=\"black\")\n",
    "plt.subplot(1,2,2)\n",
    "sns.scatterplot(\"Species\",\"SepalWidthCm\",data=df,hue=\"Species\",palette=\"Set2\")\n",
    "plt.title(\"SepalWidth  VS  Species\",pad=20,fontweight=\"black\")\n",
    "plt.show()"
   ]
  },
  {
   "cell_type": "markdown",
   "id": "00f692e5",
   "metadata": {},
   "source": [
    "**Observation**\n",
    "1. For **Iris-setosa** we can observe that this flower species are having **sepal length less than 6cm**  and **sepal width less than 5cm**. \n",
    "2. **Iris-setosa** is having the smallest **sepal length** among the three species but the **Sepal width** is argest among the three species.\n",
    "3. For **Iris-versicolor** we can observe that the **sepal length is greater than 4.5cm but less than 7cm** and **sepal width less than 3.5cm**.\n",
    "4. **Iris-versicolor** is having the smallest **sepal width**.\n",
    "5. For **Iris-Virginica** we can observe that the **sepal length is more than 5cm** and **sepal width more than 2.5cm**.\n",
    "5. **Iris-versicolor** is having the largest **sepal length**."
   ]
  },
  {
   "cell_type": "markdown",
   "id": "745d27d3",
   "metadata": {},
   "source": [
    "---"
   ]
  },
  {
   "cell_type": "markdown",
   "id": "447f9c0e",
   "metadata": {},
   "source": [
    "### 3. Visualizing \"Petal Length\" & \"Petal Width\" Feature w.r.t Species Feature."
   ]
  },
  {
   "cell_type": "code",
   "execution_count": 64,
   "id": "a7d79f43",
   "metadata": {},
   "outputs": [
    {
     "data": {
      "image/png": "[encoded data removed]",
      "text/plain": [
       "<Figure size 1296x432 with 2 Axes>"
      ]
     },
     "metadata": {},
     "output_type": "display_data"
    }
   ],
   "source": [
    "plt.figure(figsize=(18,6))\n",
    "plt.subplot(1,2,1)\n",
    "sns.scatterplot(\"Species\",\"PetalLengthCm\",data=df,hue=\"Species\",palette=\"Set2\")\n",
    "plt.title(\"PetallLength  VS  Species\",pad=20,fontweight=\"black\")\n",
    "plt.subplot(1,2,2)\n",
    "sns.scatterplot(\"Species\",\"PetalWidthCm\",data=df,hue=\"Species\",palette=\"Set2\")\n",
    "plt.title(\"PetalWidth  VS  Species\",pad=20,fontweight=\"black\")\n",
    "plt.show()"
   ]
  },
  {
   "cell_type": "markdown",
   "id": "cdbd8022",
   "metadata": {},
   "source": [
    "**Observation**\n",
    "1. For **Iris-setosa** we can observe that this flower species are having **petal length less than 2cm**  and **Petal width less than 1cm**. \n",
    "2. **Iris-setosa** is having the smallest **Petal length** & **Petal Width** among the three species.\n",
    "3. For **Iris-versicolor** we can observe that the **Petal length is greater than 3cm but less than 5.5cm** and **Petal width more than 1cm and less than 2cm**.\n",
    "4. **Iris-versicolor** is having the almost avergae values for **Petal width** & **Petal Length**.\n",
    "5. For **Iris-Virginica** we can observe that the **Petal length is more than 4cm** and **Petal width more than 1cm**.\n",
    "5. **Iris-versicolor** is having the largest **Petal length** & **Petal Width**."
   ]
  },
  {
   "cell_type": "markdown",
   "id": "b962d837",
   "metadata": {},
   "source": [
    "---"
   ]
  },
  {
   "cell_type": "markdown",
   "id": "795f5e48",
   "metadata": {},
   "source": [
    "<div style=\"color:white;\n",
    "           display:fill;\n",
    "           border-radius:5px;\n",
    "           background-color:black;\n",
    "           font-size:200%;\n",
    "           font-family:Serif;\n",
    "           letter-spacing:0.5px\">\n",
    "\n",
    "<p style=\"padding: 10px;\n",
    "          color:white;\n",
    "          font-size:120%;\n",
    "          text-align:center;\">\n",
    "Data Pre-Processing\n",
    "</p>\n",
    "</div>"
   ]
  },
  {
   "cell_type": "markdown",
   "id": "f3f32528",
   "metadata": {},
   "source": [
    "### 1. Selecting Label & Target For Model Training."
   ]
  },
  {
   "cell_type": "code",
   "execution_count": 73,
   "id": "4b33d54f",
   "metadata": {},
   "outputs": [],
   "source": [
    "x = df.drop(columns=[\"Species\",\"Id\"])\n",
    "y = df[\"Species\"]"
   ]
  },
  {
   "cell_type": "markdown",
   "id": "34543322",
   "metadata": {},
   "source": [
    "### 2. Splitting Data For Model training & Tetsing."
   ]
  },
  {
   "cell_type": "code",
   "execution_count": 74,
   "id": "4afe1010",
   "metadata": {},
   "outputs": [],
   "source": [
    "x_train,x_test,y_train,y_test = train_test_split(x,y,test_size=0.2,random_state=42)"
   ]
  },
  {
   "cell_type": "code",
   "execution_count": 75,
   "id": "296bf023",
   "metadata": {},
   "outputs": [
    {
     "name": "stdout",
     "output_type": "stream",
     "text": [
      "(120, 4) (120,)\n"
     ]
    }
   ],
   "source": [
    "print(x_train.shape,y_train.shape)"
   ]
  },
  {
   "cell_type": "code",
   "execution_count": 76,
   "id": "5eef0316",
   "metadata": {},
   "outputs": [
    {
     "name": "stdout",
     "output_type": "stream",
     "text": [
      "(30, 4) (30,)\n"
     ]
    }
   ],
   "source": [
    "print(x_test.shape,y_test.shape)"
   ]
  },
  {
   "cell_type": "markdown",
   "id": "2a5222e1",
   "metadata": {},
   "source": [
    "---"
   ]
  },
  {
   "cell_type": "markdown",
   "id": "6e9df947",
   "metadata": {},
   "source": [
    "<div style=\"color:white;\n",
    "           display:fill;\n",
    "           border-radius:5px;\n",
    "           background-color:black;\n",
    "           font-size:200%;\n",
    "           font-family:Serif;\n",
    "           letter-spacing:0.5px\">\n",
    "\n",
    "<p style=\"padding: 10px;\n",
    "          color:white;\n",
    "          font-size:120%;\n",
    "          text-align:center;\">\n",
    "Model Building\n",
    "</p>\n",
    "</div>"
   ]
  },
  {
   "cell_type": "markdown",
   "id": "cf1c03b9",
   "metadata": {},
   "source": [
    "### Logistic Regression Model."
   ]
  },
  {
   "cell_type": "code",
   "execution_count": 77,
   "id": "64ea3b6d",
   "metadata": {},
   "outputs": [],
   "source": [
    "clf = LogisticRegression()"
   ]
  },
  {
   "cell_type": "code",
   "execution_count": 78,
   "id": "e8b8acb5",
   "metadata": {},
   "outputs": [
    {
     "data": {
      "text/plain": [
       "LogisticRegression()"
      ]
     },
     "execution_count": 78,
     "metadata": {},
     "output_type": "execute_result"
    }
   ],
   "source": [
    "clf.fit(x_train,y_train)"
   ]
  },
  {
   "cell_type": "markdown",
   "id": "db38d6cb",
   "metadata": {},
   "source": [
    "### Model Prediction for Training & Testing Data."
   ]
  },
  {
   "cell_type": "code",
   "execution_count": 82,
   "id": "2be41ae8",
   "metadata": {},
   "outputs": [],
   "source": [
    "train_pred = clf.predict(x_train)\n",
    "test_pred = clf.predict(x_test)"
   ]
  },
  {
   "cell_type": "markdown",
   "id": "535a527f",
   "metadata": {},
   "source": [
    "### Checking Accuracy of Model Prediction."
   ]
  },
  {
   "cell_type": "code",
   "execution_count": 87,
   "id": "35e3b47a",
   "metadata": {},
   "outputs": [
    {
     "name": "stdout",
     "output_type": "stream",
     "text": [
      "Accuraacy on Training Data is:  97.5\n"
     ]
    }
   ],
   "source": [
    "print(\"Accuraacy on Training Data is: \",accuracy_score(y_train,train_pred)*100)"
   ]
  },
  {
   "cell_type": "code",
   "execution_count": 89,
   "id": "ef843781",
   "metadata": {},
   "outputs": [
    {
     "name": "stdout",
     "output_type": "stream",
     "text": [
      "Accuracy on Tetsing Data is: 100.0\n"
     ]
    }
   ],
   "source": [
    "print(\"Accuracy on Tetsing Data is:\",accuracy_score(y_test,test_pred)*100)"
   ]
  },
  {
   "cell_type": "markdown",
   "id": "e9ccb876",
   "metadata": {},
   "source": [
    "**Obseravtion**\n",
    "1. We can clearly observe that we got an accuracy of **97 on training data** and **100 on testing data**.\n",
    "2. So we can conclude that our model is having a kind of **best fitting.**"
   ]
  },
  {
   "cell_type": "markdown",
   "id": "edf2b0f4",
   "metadata": {},
   "source": [
    "### Model Evaluation"
   ]
  },
  {
   "cell_type": "code",
   "execution_count": 91,
   "id": "12d1372d",
   "metadata": {},
   "outputs": [
    {
     "data": {
      "text/plain": [
       "array([[10,  0,  0],\n",
       "       [ 0,  9,  0],\n",
       "       [ 0,  0, 11]], dtype=int64)"
      ]
     },
     "execution_count": 91,
     "metadata": {},
     "output_type": "execute_result"
    }
   ],
   "source": [
    "cm = confusion_matrix(y_test,test_pred)\n",
    "cm"
   ]
  },
  {
   "cell_type": "markdown",
   "id": "768cd65d",
   "metadata": {},
   "source": [
    "### Visualizing The Confusion Matrix."
   ]
  },
  {
   "cell_type": "code",
   "execution_count": 94,
   "id": "b1abe669",
   "metadata": {},
   "outputs": [
    {
     "data": {
      "image/png": "[encoded data removed]",
      "text/plain": [
       "<Figure size 576x288 with 2 Axes>"
      ]
     },
     "metadata": {},
     "output_type": "display_data"
    }
   ],
   "source": [
    "plt.figure(figsize=(8,4))\n",
    "sns.heatmap(cm,annot=True,fmt=\"g\",cmap=\"summer\")\n",
    "plt.show()"
   ]
  },
  {
   "cell_type": "markdown",
   "id": "b6a303f3",
   "metadata": {},
   "source": [
    "**Obseravtion**\n",
    "1. We can clearly observe that our model has predicted all the values correctly."
   ]
  },
  {
   "cell_type": "markdown",
   "id": "a3ec9055",
   "metadata": {},
   "source": [
    "---"
   ]
  },
  {
   "cell_type": "markdown",
   "id": "5c9b6b12",
   "metadata": {},
   "source": [
    "<a id=\"1.1\"></a>\n",
    "<h2 style=\"font-family: Verdana; font-size: 28px; font-style: normal; font-weight: normal; text-decoration: none; text-transform: none; letter-spacing: 2px; color: black; background-color: #ffffff;\"><b>Conclusion:-</b>\n",
    " </h2>"
   ]
  },
  {
   "cell_type": "markdown",
   "id": "0297ca6c",
   "metadata": {},
   "source": [
    "<div style=\"font-family:Georgia;background-color:aliceblue; padding:30px; font-size:17px\">\n",
    "\n",
    "<b>Iris Flower Classification using Machine Learning</b><br>\n",
    "\n",
    "<b>Key-Points</b><br>\n",
    "\n",
    "💡 First we did <b>Data Preparation</b> and loaded all the libraries and datasets reuired for classifcation.<br>\n",
    "💡 Then we performed <b>Exploratory Data Analysis</b> using different visualization techniques and generated some insights.<br>  \n",
    "💡 Then we performed <b>Data Preprocessing</b> to make raw data suitable for model training.\n",
    "💡 Then we performed <b>Model building</b> and trained our model using <b>Logistic Regression Algorithm.</b><br>\n",
    "💡 Then we performed <b>Model Evaluation</b> and in the end we generated a model with accuracy of <b>100</b> on testing data.\n",
    "</div>"
   ]
  },
  {
   "cell_type": "markdown",
   "id": "c9754749",
   "metadata": {},
   "source": [
    "---"
   ]
  }
 ],
 "metadata": {
  "kernelspec": {
   "display_name": "Python 3 (ipykernel)",
   "language": "python",
   "name": "python3"
  },
  "language_info": {
   "codemirror_mode": {
    "name": "ipython",
    "version": 3
   },
   "file_extension": ".py",
   "mimetype": "text/x-python",
   "name": "python",
   "nbconvert_exporter": "python",
   "pygments_lexer": "ipython3",
   "version": "3.9.12"
  }
 },
 "nbformat": 4,
 "nbformat_minor": 5
}
