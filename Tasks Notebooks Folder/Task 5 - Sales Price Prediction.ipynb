{
 "cells": [
  {
   "cell_type": "markdown",
   "id": "ed5b0eb9",
   "metadata": {},
   "source": [
    "<div style=\"color:white;\n",
    "           display:fill;\n",
    "           border-radius:5px;\n",
    "           background-color:brown;\n",
    "           font-size:200%;\n",
    "           font-family:Serif;\n",
    "           letter-spacing:0.5px\">\n",
    "\n",
    "<p style=\"padding: 10px;\n",
    "          color:white;\n",
    "          font-size:120%;\n",
    "          text-align:center;\">\n",
    "Sales Price Prediction\n",
    "</p>\n",
    "</div>"
   ]
  },
  {
   "cell_type": "markdown",
   "id": "37037f6b",
   "metadata": {},
   "source": [
    "<div style=\"font-family:Georgia;background-color:aliceblue; padding:30px; font-size:17px\">\n",
    "\n",
    "<b>Task 5 Objective:- Sales Prediction using Python.<br>\n",
    "\n",
    "<b>Description</b><br>\n",
    "\n",
    "💡 Sales Prediction means predicting how much of a product people will buy based on the factors such as the amount you spend to advertise the product, the segment of people you advertise for, or the platform you are advertising on about your product.<br>\n",
    "💡 In this task we have to train a machine learning model to predict their future sales with every step they take to manipulate the cost of advetising their product.<br>\n",
    "💡 Dataset Link:- https://www.kaggle.com/datasets/bumba5341/advertisingcsv\n",
    "    \n",
    "<a id=\"1.3\"></a>\n",
    "<h2 style=\"font-family: Verdana; font-size: 22px; font-style: normal; font-weight: normal; text-decoration: none; text-transform: none; letter-spacing: 2px; color: black; background-color:aliceblue;\"><b> Author:- </b> Kumod Sharma</h2>\n",
    "</div>"
   ]
  },
  {
   "cell_type": "markdown",
   "id": "d61cb755",
   "metadata": {},
   "source": [
    "<center>\n",
    "<img src=\"https://academy-public.coinmarketcap.com/optimized-uploads/a189e72d71ad447b985f6d8ad225ba5a.jpeg\" width=600 height=400 />\n",
    "</center>"
   ]
  },
  {
   "cell_type": "markdown",
   "id": "853e8d0c",
   "metadata": {},
   "source": [
    "---"
   ]
  },
  {
   "cell_type": "markdown",
   "id": "5fb606e2",
   "metadata": {},
   "source": [
    "<div style=\"color:white;\n",
    "           display:fill;\n",
    "           border-radius:5px;\n",
    "           background-color:black;\n",
    "           font-size:200%;\n",
    "           font-family:Serif;\n",
    "           letter-spacing:0.5px\">\n",
    "\n",
    "<p style=\"padding: 10px;\n",
    "          color:white;\n",
    "          font-size:120%;\n",
    "          text-align:center;\">\n",
    "Importing Libraries\n",
    "</p>\n",
    "</div>"
   ]
  },
  {
   "cell_type": "code",
   "execution_count": 1,
   "id": "c8168189",
   "metadata": {},
   "outputs": [],
   "source": [
    "import numpy as np\n",
    "import pandas as pd\n",
    "import matplotlib.pyplot as plt\n",
    "from scipy import stats\n",
    "import seaborn as sns\n",
    "import pylab\n",
    "import warnings\n",
    "warnings.filterwarnings(\"ignore\")\n",
    "%matplotlib inline\n",
    "sns.set(style=\"darkgrid\",font_scale=1.5)\n",
    "\n",
    "from sklearn.linear_model import LinearRegression\n",
    "from sklearn.model_selection import train_test_split\n",
    "from sklearn.metrics import mean_squared_error,r2_score,mean_absolute_error,mean_absolute_percentage_error"
   ]
  },
  {
   "cell_type": "markdown",
   "id": "dc7e0142",
   "metadata": {},
   "source": [
    "<div style=\"color:white;\n",
    "           display:fill;\n",
    "           border-radius:5px;\n",
    "           background-color:black;\n",
    "           font-size:200%;\n",
    "           font-family:Serif;\n",
    "           letter-spacing:0.5px\">\n",
    "\n",
    "<p style=\"padding: 10px;\n",
    "          color:white;\n",
    "          font-size:120%;\n",
    "          text-align:center;\">\n",
    "Loading Datasets\n",
    "</p>\n",
    "</div>"
   ]
  },
  {
   "cell_type": "code",
   "execution_count": 2,
   "id": "36e8d5c0",
   "metadata": {},
   "outputs": [],
   "source": [
    "df = pd.read_csv(\"C:\\\\Users\\\\kumod sharma\\\\Desktop\\\\Advertising.csv\",index_col=[0])"
   ]
  },
  {
   "cell_type": "code",
   "execution_count": 3,
   "id": "bc8936aa",
   "metadata": {},
   "outputs": [
    {
     "data": {
      "text/html": [
       "<div>\n",
       "<style scoped>\n",
       "    .dataframe tbody tr th:only-of-type {\n",
       "        vertical-align: middle;\n",
       "    }\n",
       "\n",
       "    .dataframe tbody tr th {\n",
       "        vertical-align: top;\n",
       "    }\n",
       "\n",
       "    .dataframe thead th {\n",
       "        text-align: right;\n",
       "    }\n",
       "</style>\n",
       "<table border=\"1\" class=\"dataframe\">\n",
       "  <thead>\n",
       "    <tr style=\"text-align: right;\">\n",
       "      <th></th>\n",
       "      <th>TV</th>\n",
       "      <th>Radio</th>\n",
       "      <th>Newspaper</th>\n",
       "      <th>Sales</th>\n",
       "    </tr>\n",
       "  </thead>\n",
       "  <tbody>\n",
       "    <tr>\n",
       "      <th>1</th>\n",
       "      <td>230.1</td>\n",
       "      <td>37.8</td>\n",
       "      <td>69.2</td>\n",
       "      <td>22.1</td>\n",
       "    </tr>\n",
       "    <tr>\n",
       "      <th>2</th>\n",
       "      <td>44.5</td>\n",
       "      <td>39.3</td>\n",
       "      <td>45.1</td>\n",
       "      <td>10.4</td>\n",
       "    </tr>\n",
       "    <tr>\n",
       "      <th>3</th>\n",
       "      <td>17.2</td>\n",
       "      <td>45.9</td>\n",
       "      <td>69.3</td>\n",
       "      <td>9.3</td>\n",
       "    </tr>\n",
       "    <tr>\n",
       "      <th>4</th>\n",
       "      <td>151.5</td>\n",
       "      <td>41.3</td>\n",
       "      <td>58.5</td>\n",
       "      <td>18.5</td>\n",
       "    </tr>\n",
       "    <tr>\n",
       "      <th>5</th>\n",
       "      <td>180.8</td>\n",
       "      <td>10.8</td>\n",
       "      <td>58.4</td>\n",
       "      <td>12.9</td>\n",
       "    </tr>\n",
       "  </tbody>\n",
       "</table>\n",
       "</div>"
      ],
      "text/plain": [
       "      TV  Radio  Newspaper  Sales\n",
       "1  230.1   37.8       69.2   22.1\n",
       "2   44.5   39.3       45.1   10.4\n",
       "3   17.2   45.9       69.3    9.3\n",
       "4  151.5   41.3       58.5   18.5\n",
       "5  180.8   10.8       58.4   12.9"
      ]
     },
     "execution_count": 3,
     "metadata": {},
     "output_type": "execute_result"
    }
   ],
   "source": [
    "df.head()"
   ]
  },
  {
   "cell_type": "code",
   "execution_count": 4,
   "id": "2d76ec59",
   "metadata": {},
   "outputs": [
    {
     "data": {
      "text/html": [
       "<div>\n",
       "<style scoped>\n",
       "    .dataframe tbody tr th:only-of-type {\n",
       "        vertical-align: middle;\n",
       "    }\n",
       "\n",
       "    .dataframe tbody tr th {\n",
       "        vertical-align: top;\n",
       "    }\n",
       "\n",
       "    .dataframe thead th {\n",
       "        text-align: right;\n",
       "    }\n",
       "</style>\n",
       "<table border=\"1\" class=\"dataframe\">\n",
       "  <thead>\n",
       "    <tr style=\"text-align: right;\">\n",
       "      <th></th>\n",
       "      <th>TV</th>\n",
       "      <th>Radio</th>\n",
       "      <th>Newspaper</th>\n",
       "      <th>Sales</th>\n",
       "    </tr>\n",
       "  </thead>\n",
       "  <tbody>\n",
       "    <tr>\n",
       "      <th>196</th>\n",
       "      <td>38.2</td>\n",
       "      <td>3.7</td>\n",
       "      <td>13.8</td>\n",
       "      <td>7.6</td>\n",
       "    </tr>\n",
       "    <tr>\n",
       "      <th>197</th>\n",
       "      <td>94.2</td>\n",
       "      <td>4.9</td>\n",
       "      <td>8.1</td>\n",
       "      <td>9.7</td>\n",
       "    </tr>\n",
       "    <tr>\n",
       "      <th>198</th>\n",
       "      <td>177.0</td>\n",
       "      <td>9.3</td>\n",
       "      <td>6.4</td>\n",
       "      <td>12.8</td>\n",
       "    </tr>\n",
       "    <tr>\n",
       "      <th>199</th>\n",
       "      <td>283.6</td>\n",
       "      <td>42.0</td>\n",
       "      <td>66.2</td>\n",
       "      <td>25.5</td>\n",
       "    </tr>\n",
       "    <tr>\n",
       "      <th>200</th>\n",
       "      <td>232.1</td>\n",
       "      <td>8.6</td>\n",
       "      <td>8.7</td>\n",
       "      <td>13.4</td>\n",
       "    </tr>\n",
       "  </tbody>\n",
       "</table>\n",
       "</div>"
      ],
      "text/plain": [
       "        TV  Radio  Newspaper  Sales\n",
       "196   38.2    3.7       13.8    7.6\n",
       "197   94.2    4.9        8.1    9.7\n",
       "198  177.0    9.3        6.4   12.8\n",
       "199  283.6   42.0       66.2   25.5\n",
       "200  232.1    8.6        8.7   13.4"
      ]
     },
     "execution_count": 4,
     "metadata": {},
     "output_type": "execute_result"
    }
   ],
   "source": [
    "df.tail()"
   ]
  },
  {
   "cell_type": "markdown",
   "id": "b37b78e0",
   "metadata": {},
   "source": [
    "---"
   ]
  },
  {
   "cell_type": "markdown",
   "id": "a2c20568",
   "metadata": {},
   "source": [
    "<div style=\"color:white;\n",
    "           display:fill;\n",
    "           border-radius:5px;\n",
    "           background-color:black;\n",
    "           font-size:200%;\n",
    "           font-family:Serif;\n",
    "           letter-spacing:0.5px\">\n",
    "\n",
    "<p style=\"padding: 10px;\n",
    "          color:white;\n",
    "          font-size:120%;\n",
    "          text-align:center;\">\n",
    "Basic Understanding of Data\n",
    "</p>\n",
    "</div>"
   ]
  },
  {
   "cell_type": "markdown",
   "id": "5620536b",
   "metadata": {},
   "source": [
    "### 1. Checking Dimensions of the Data."
   ]
  },
  {
   "cell_type": "code",
   "execution_count": 5,
   "id": "740424f2",
   "metadata": {},
   "outputs": [
    {
     "data": {
      "text/plain": [
       "(200, 4)"
      ]
     },
     "execution_count": 5,
     "metadata": {},
     "output_type": "execute_result"
    }
   ],
   "source": [
    "df.shape"
   ]
  },
  {
   "cell_type": "markdown",
   "id": "86f65090",
   "metadata": {},
   "source": [
    "**Observation**\n",
    "1. From the above output we can say that there are **200 rows/records** and **4 columns/Features** present in our dataset."
   ]
  },
  {
   "cell_type": "markdown",
   "id": "76ae462a",
   "metadata": {},
   "source": [
    "### 2. Checking the Data-Types of the Features."
   ]
  },
  {
   "cell_type": "code",
   "execution_count": 6,
   "id": "52aef1ee",
   "metadata": {},
   "outputs": [
    {
     "data": {
      "text/html": [
       "<div>\n",
       "<style scoped>\n",
       "    .dataframe tbody tr th:only-of-type {\n",
       "        vertical-align: middle;\n",
       "    }\n",
       "\n",
       "    .dataframe tbody tr th {\n",
       "        vertical-align: top;\n",
       "    }\n",
       "\n",
       "    .dataframe thead th {\n",
       "        text-align: right;\n",
       "    }\n",
       "</style>\n",
       "<table border=\"1\" class=\"dataframe\">\n",
       "  <thead>\n",
       "    <tr style=\"text-align: right;\">\n",
       "      <th></th>\n",
       "      <th>Data-Types</th>\n",
       "    </tr>\n",
       "  </thead>\n",
       "  <tbody>\n",
       "    <tr>\n",
       "      <th>TV</th>\n",
       "      <td>float64</td>\n",
       "    </tr>\n",
       "    <tr>\n",
       "      <th>Radio</th>\n",
       "      <td>float64</td>\n",
       "    </tr>\n",
       "    <tr>\n",
       "      <th>Newspaper</th>\n",
       "      <td>float64</td>\n",
       "    </tr>\n",
       "    <tr>\n",
       "      <th>Sales</th>\n",
       "      <td>float64</td>\n",
       "    </tr>\n",
       "  </tbody>\n",
       "</table>\n",
       "</div>"
      ],
      "text/plain": [
       "          Data-Types\n",
       "TV           float64\n",
       "Radio        float64\n",
       "Newspaper    float64\n",
       "Sales        float64"
      ]
     },
     "execution_count": 6,
     "metadata": {},
     "output_type": "execute_result"
    }
   ],
   "source": [
    "df.dtypes.to_frame().rename(columns={0:\"Data-Types\"})"
   ]
  },
  {
   "cell_type": "markdown",
   "id": "dceb47eb",
   "metadata": {},
   "source": [
    "**Observation**\n",
    "1. From above output we can observe all the features are having **numerical** data-types.\n",
    "2. All the features are having correct data-types. So we don't have to do any changes."
   ]
  },
  {
   "cell_type": "markdown",
   "id": "9daaa4b0",
   "metadata": {},
   "source": [
    "### 3. Checking NaN values in our Dataset."
   ]
  },
  {
   "cell_type": "code",
   "execution_count": 7,
   "id": "338e94a1",
   "metadata": {},
   "outputs": [
    {
     "data": {
      "text/html": [
       "<div>\n",
       "<style scoped>\n",
       "    .dataframe tbody tr th:only-of-type {\n",
       "        vertical-align: middle;\n",
       "    }\n",
       "\n",
       "    .dataframe tbody tr th {\n",
       "        vertical-align: top;\n",
       "    }\n",
       "\n",
       "    .dataframe thead th {\n",
       "        text-align: right;\n",
       "    }\n",
       "</style>\n",
       "<table border=\"1\" class=\"dataframe\">\n",
       "  <thead>\n",
       "    <tr style=\"text-align: right;\">\n",
       "      <th></th>\n",
       "      <th>Total No. of Missing Values</th>\n",
       "    </tr>\n",
       "  </thead>\n",
       "  <tbody>\n",
       "    <tr>\n",
       "      <th>TV</th>\n",
       "      <td>0</td>\n",
       "    </tr>\n",
       "    <tr>\n",
       "      <th>Radio</th>\n",
       "      <td>0</td>\n",
       "    </tr>\n",
       "    <tr>\n",
       "      <th>Newspaper</th>\n",
       "      <td>0</td>\n",
       "    </tr>\n",
       "    <tr>\n",
       "      <th>Sales</th>\n",
       "      <td>0</td>\n",
       "    </tr>\n",
       "  </tbody>\n",
       "</table>\n",
       "</div>"
      ],
      "text/plain": [
       "           Total No. of Missing Values\n",
       "TV                                   0\n",
       "Radio                                0\n",
       "Newspaper                            0\n",
       "Sales                                0"
      ]
     },
     "execution_count": 7,
     "metadata": {},
     "output_type": "execute_result"
    }
   ],
   "source": [
    "df.isnull().sum().to_frame().rename(columns={0:\"Total No. of Missing Values\"})"
   ]
  },
  {
   "cell_type": "markdown",
   "id": "91568b07",
   "metadata": {},
   "source": [
    "**Observation**\n",
    "1. We can observe that **none of the features is having Missing values**."
   ]
  },
  {
   "cell_type": "markdown",
   "id": "9fcb97ab",
   "metadata": {},
   "source": [
    "### 4. Checking Duplicate Values."
   ]
  },
  {
   "cell_type": "code",
   "execution_count": 8,
   "id": "c1ee83f7",
   "metadata": {},
   "outputs": [
    {
     "name": "stdout",
     "output_type": "stream",
     "text": [
      "Duplicate Values = 0\n"
     ]
    }
   ],
   "source": [
    "print(\"Duplicate Values =\",df.duplicated().sum())"
   ]
  },
  {
   "cell_type": "markdown",
   "id": "dcf42baa",
   "metadata": {},
   "source": [
    "**Observation**\n",
    "1. From the above output we can say that there is **no duplicate** records present in our dataset."
   ]
  },
  {
   "cell_type": "markdown",
   "id": "59938a5a",
   "metadata": {},
   "source": [
    "---"
   ]
  },
  {
   "cell_type": "markdown",
   "id": "7db36c6c",
   "metadata": {},
   "source": [
    "<div style=\"color:white;\n",
    "           display:fill;\n",
    "           border-radius:5px;\n",
    "           background-color:black;\n",
    "           font-size:200%;\n",
    "           font-family:Serif;\n",
    "           letter-spacing:0.5px\">\n",
    "\n",
    "<p style=\"padding: 10px;\n",
    "          color:white;\n",
    "          font-size:120%;\n",
    "          text-align:center;\">\n",
    "Exploratory Data Analysis (EDA)\n",
    "</p>\n",
    "</div>"
   ]
  },
  {
   "cell_type": "markdown",
   "id": "9661b65a",
   "metadata": {},
   "source": [
    "### 1. Visualizing our Target (\"Sales Feature\")."
   ]
  },
  {
   "cell_type": "code",
   "execution_count": 9,
   "id": "ef16281a",
   "metadata": {},
   "outputs": [
    {
     "data": {
      "image/png": "[encoded data removed]",
      "text/plain": [
       "<Figure size 1080x432 with 2 Axes>"
      ]
     },
     "metadata": {},
     "output_type": "display_data"
    }
   ],
   "source": [
    "plt.figure(figsize=(15,6))\n",
    "plt.subplot(1,2,1)\n",
    "sns.histplot(df[\"Sales\"],color=\"red\",kde=True)\n",
    "plt.title(\"Sales Feature Distribution\",fontweight=\"black\",pad=20,fontsize=20)\n",
    "\n",
    "plt.subplot(1,2,2)\n",
    "stats.probplot(df[\"Sales\"],dist=\"norm\",plot=pylab)\n",
    "plt.show()\n"
   ]
  },
  {
   "cell_type": "markdown",
   "id": "9120f1d4",
   "metadata": {},
   "source": [
    "**Observation**\n",
    "1. Most of the sales values are between **8- 18**.\n",
    "2. **Sales** Feature is having a kind on **Gauusian Distribution**.\n",
    "3. So we don't have to perform any Transformations steps."
   ]
  },
  {
   "cell_type": "markdown",
   "id": "ab96d434",
   "metadata": {},
   "source": [
    "---"
   ]
  },
  {
   "cell_type": "markdown",
   "id": "56300762",
   "metadata": {},
   "source": [
    "### 2. Visualizing Advertising Features."
   ]
  },
  {
   "cell_type": "code",
   "execution_count": 10,
   "id": "ab01b657",
   "metadata": {},
   "outputs": [
    {
     "data": {
      "image/png": "[encoded data removed]",
      "text/plain": [
       "<Figure size 1008x432 with 3 Axes>"
      ]
     },
     "metadata": {},
     "output_type": "display_data"
    }
   ],
   "source": [
    "cols = [\"TV\",\"Radio\",\"Newspaper\"]  ## Advertising Features.\n",
    "x=1\n",
    "\n",
    "plt.figure(figsize=(14,6))\n",
    "for col in cols:\n",
    "    plt.subplot(1,3,x)\n",
    "    sns.scatterplot(col,\"Sales\",data=df,color=\"red\")\n",
    "    plt.title(f\"{col} vs Sales\",fontweight=\"black\",pad=10,fontsize=15)\n",
    "    plt.tight_layout()\n",
    "    x+=1"
   ]
  },
  {
   "cell_type": "markdown",
   "id": "cd620cc5",
   "metadata": {},
   "source": [
    "**Observation**\n",
    "1. From **TV vs Sales** Visualization we can clearly see that the **product sales is highly dependent** on **TV Advertisment**\n",
    "2. From **Radio vs Sales** Visualization we can say that the **product sales is also dependent on Radio Advertisment** but less dependency than **TV Advertisment**.\n",
    "3. From **Newspaper vs Sales** Visualization we can clearly say that the **Product sales is not at all dependent on Newspaper Avdertisment** because all the data-points are scattered."
   ]
  },
  {
   "cell_type": "markdown",
   "id": "9759e1c0",
   "metadata": {},
   "source": [
    "---"
   ]
  },
  {
   "cell_type": "markdown",
   "id": "d1b3c4c2",
   "metadata": {},
   "source": [
    "### 3. Checking The Correlation of Features."
   ]
  },
  {
   "cell_type": "code",
   "execution_count": 11,
   "id": "0e8128c6",
   "metadata": {},
   "outputs": [
    {
     "data": {
      "image/png": "[encoded data removed]",
      "text/plain": [
       "<Figure size 1440x432 with 2 Axes>"
      ]
     },
     "metadata": {},
     "output_type": "display_data"
    }
   ],
   "source": [
    "plt.figure(figsize=(20,6))\n",
    "sns.heatmap(df.corr(),annot=True,cmap=\"summer\")\n",
    "plt.title(\"Coorelation among The Fetaures\",fontweight=\"black\",fontsize=22,pad=20)\n",
    "plt.show()"
   ]
  },
  {
   "cell_type": "markdown",
   "id": "44bd7256",
   "metadata": {},
   "source": [
    "**Observation**\n",
    "1. We can observe that **TV Feture** is having the highest correlation with our Target feature.\n",
    "2. **Radio Feature** is having a positive coorelation with our Target fetaure but less than **TV Feature.**\n",
    "3. **Newspaper Feature** is having very less correlation with our Target feature.\n",
    "\n",
    "**Insights**\n",
    "1. We can make an insight that the sales is mostly dependent on **TV Advertisment** & **Radio Advertisment.**\n",
    "2. So we can drop **Newspaper feature** before Training our Model."
   ]
  },
  {
   "cell_type": "markdown",
   "id": "35af8499",
   "metadata": {},
   "source": [
    "---"
   ]
  },
  {
   "cell_type": "markdown",
   "id": "d7ad7610",
   "metadata": {},
   "source": [
    "<div style=\"color:white;\n",
    "           display:fill;\n",
    "           border-radius:5px;\n",
    "           background-color:black;\n",
    "           font-size:200%;\n",
    "           font-family:Serif;\n",
    "           letter-spacing:0.5px\">\n",
    "\n",
    "<p style=\"padding: 10px;\n",
    "          color:white;\n",
    "          font-size:120%;\n",
    "          text-align:center;\">\n",
    "Data Pre-Processing\n",
    "</p>\n",
    "</div>"
   ]
  },
  {
   "cell_type": "markdown",
   "id": "f3f32528",
   "metadata": {},
   "source": [
    "### 1. Selecting Label & Target For Model Training."
   ]
  },
  {
   "cell_type": "code",
   "execution_count": 12,
   "id": "4b33d54f",
   "metadata": {},
   "outputs": [],
   "source": [
    "x = df.drop(columns=[\"Sales\",\"Newspaper\"])\n",
    "y = df[[\"Sales\"]]"
   ]
  },
  {
   "cell_type": "code",
   "execution_count": 13,
   "id": "f1f6537b",
   "metadata": {},
   "outputs": [
    {
     "data": {
      "text/html": [
       "<div>\n",
       "<style scoped>\n",
       "    .dataframe tbody tr th:only-of-type {\n",
       "        vertical-align: middle;\n",
       "    }\n",
       "\n",
       "    .dataframe tbody tr th {\n",
       "        vertical-align: top;\n",
       "    }\n",
       "\n",
       "    .dataframe thead th {\n",
       "        text-align: right;\n",
       "    }\n",
       "</style>\n",
       "<table border=\"1\" class=\"dataframe\">\n",
       "  <thead>\n",
       "    <tr style=\"text-align: right;\">\n",
       "      <th></th>\n",
       "      <th>TV</th>\n",
       "      <th>Radio</th>\n",
       "    </tr>\n",
       "  </thead>\n",
       "  <tbody>\n",
       "    <tr>\n",
       "      <th>1</th>\n",
       "      <td>230.1</td>\n",
       "      <td>37.8</td>\n",
       "    </tr>\n",
       "    <tr>\n",
       "      <th>2</th>\n",
       "      <td>44.5</td>\n",
       "      <td>39.3</td>\n",
       "    </tr>\n",
       "    <tr>\n",
       "      <th>3</th>\n",
       "      <td>17.2</td>\n",
       "      <td>45.9</td>\n",
       "    </tr>\n",
       "    <tr>\n",
       "      <th>4</th>\n",
       "      <td>151.5</td>\n",
       "      <td>41.3</td>\n",
       "    </tr>\n",
       "    <tr>\n",
       "      <th>5</th>\n",
       "      <td>180.8</td>\n",
       "      <td>10.8</td>\n",
       "    </tr>\n",
       "  </tbody>\n",
       "</table>\n",
       "</div>"
      ],
      "text/plain": [
       "      TV  Radio\n",
       "1  230.1   37.8\n",
       "2   44.5   39.3\n",
       "3   17.2   45.9\n",
       "4  151.5   41.3\n",
       "5  180.8   10.8"
      ]
     },
     "execution_count": 13,
     "metadata": {},
     "output_type": "execute_result"
    }
   ],
   "source": [
    "x.head()"
   ]
  },
  {
   "cell_type": "code",
   "execution_count": 14,
   "id": "5d79d2d1",
   "metadata": {},
   "outputs": [
    {
     "data": {
      "text/html": [
       "<div>\n",
       "<style scoped>\n",
       "    .dataframe tbody tr th:only-of-type {\n",
       "        vertical-align: middle;\n",
       "    }\n",
       "\n",
       "    .dataframe tbody tr th {\n",
       "        vertical-align: top;\n",
       "    }\n",
       "\n",
       "    .dataframe thead th {\n",
       "        text-align: right;\n",
       "    }\n",
       "</style>\n",
       "<table border=\"1\" class=\"dataframe\">\n",
       "  <thead>\n",
       "    <tr style=\"text-align: right;\">\n",
       "      <th></th>\n",
       "      <th>Sales</th>\n",
       "    </tr>\n",
       "  </thead>\n",
       "  <tbody>\n",
       "    <tr>\n",
       "      <th>1</th>\n",
       "      <td>22.1</td>\n",
       "    </tr>\n",
       "    <tr>\n",
       "      <th>2</th>\n",
       "      <td>10.4</td>\n",
       "    </tr>\n",
       "    <tr>\n",
       "      <th>3</th>\n",
       "      <td>9.3</td>\n",
       "    </tr>\n",
       "    <tr>\n",
       "      <th>4</th>\n",
       "      <td>18.5</td>\n",
       "    </tr>\n",
       "    <tr>\n",
       "      <th>5</th>\n",
       "      <td>12.9</td>\n",
       "    </tr>\n",
       "  </tbody>\n",
       "</table>\n",
       "</div>"
      ],
      "text/plain": [
       "   Sales\n",
       "1   22.1\n",
       "2   10.4\n",
       "3    9.3\n",
       "4   18.5\n",
       "5   12.9"
      ]
     },
     "execution_count": 14,
     "metadata": {},
     "output_type": "execute_result"
    }
   ],
   "source": [
    "y.head()"
   ]
  },
  {
   "cell_type": "markdown",
   "id": "34543322",
   "metadata": {},
   "source": [
    "### 2. Splitting Data For Model training & Tetsing."
   ]
  },
  {
   "cell_type": "code",
   "execution_count": 15,
   "id": "4afe1010",
   "metadata": {},
   "outputs": [],
   "source": [
    "x_train,x_test,y_train,y_test = train_test_split(x,y,test_size=0.2,random_state=42)"
   ]
  },
  {
   "cell_type": "code",
   "execution_count": 16,
   "id": "296bf023",
   "metadata": {},
   "outputs": [
    {
     "name": "stdout",
     "output_type": "stream",
     "text": [
      "(160, 2) (160, 1)\n"
     ]
    }
   ],
   "source": [
    "print(x_train.shape,y_train.shape)"
   ]
  },
  {
   "cell_type": "code",
   "execution_count": 17,
   "id": "5eef0316",
   "metadata": {},
   "outputs": [
    {
     "name": "stdout",
     "output_type": "stream",
     "text": [
      "(40, 2) (40, 1)\n"
     ]
    }
   ],
   "source": [
    "print(x_test.shape,y_test.shape)"
   ]
  },
  {
   "cell_type": "markdown",
   "id": "2a5222e1",
   "metadata": {},
   "source": [
    "---"
   ]
  },
  {
   "cell_type": "markdown",
   "id": "6e9df947",
   "metadata": {},
   "source": [
    "<div style=\"color:white;\n",
    "           display:fill;\n",
    "           border-radius:5px;\n",
    "           background-color:black;\n",
    "           font-size:200%;\n",
    "           font-family:Serif;\n",
    "           letter-spacing:0.5px\">\n",
    "\n",
    "<p style=\"padding: 10px;\n",
    "          color:white;\n",
    "          font-size:120%;\n",
    "          text-align:center;\">\n",
    "Model Creation\n",
    "</p>\n",
    "</div>"
   ]
  },
  {
   "cell_type": "markdown",
   "id": "9acd710c",
   "metadata": {},
   "source": [
    "### Creating Linear Regression Model."
   ]
  },
  {
   "cell_type": "code",
   "execution_count": 18,
   "id": "64ea3b6d",
   "metadata": {},
   "outputs": [],
   "source": [
    "model = LinearRegression()"
   ]
  },
  {
   "cell_type": "code",
   "execution_count": 19,
   "id": "e8b8acb5",
   "metadata": {},
   "outputs": [
    {
     "data": {
      "text/plain": [
       "LinearRegression()"
      ]
     },
     "execution_count": 19,
     "metadata": {},
     "output_type": "execute_result"
    }
   ],
   "source": [
    "model.fit(x_train,y_train)"
   ]
  },
  {
   "cell_type": "markdown",
   "id": "db38d6cb",
   "metadata": {},
   "source": [
    "### Model Prediction for Training & Testing Data."
   ]
  },
  {
   "cell_type": "code",
   "execution_count": 20,
   "id": "2be41ae8",
   "metadata": {},
   "outputs": [],
   "source": [
    "train_pred = model.predict(x_train)\n",
    "test_pred = model.predict(x_test)"
   ]
  },
  {
   "cell_type": "markdown",
   "id": "535a527f",
   "metadata": {},
   "source": [
    "### Checking Accuracy of Model Prediction."
   ]
  },
  {
   "cell_type": "code",
   "execution_count": 21,
   "id": "35e3b47a",
   "metadata": {},
   "outputs": [
    {
     "name": "stdout",
     "output_type": "stream",
     "text": [
      "Accuraacy on Training Data is:  89.55982149747163\n"
     ]
    }
   ],
   "source": [
    "print(\"Accuraacy on Training Data is: \",r2_score(y_train,train_pred)*100)"
   ]
  },
  {
   "cell_type": "code",
   "execution_count": 22,
   "id": "ef843781",
   "metadata": {},
   "outputs": [
    {
     "name": "stdout",
     "output_type": "stream",
     "text": [
      "Accuracy on Tetsing Data is: 90.05833101920356\n"
     ]
    }
   ],
   "source": [
    "print(\"Accuracy on Tetsing Data is:\",r2_score(y_test,test_pred)*100)"
   ]
  },
  {
   "cell_type": "markdown",
   "id": "e9ccb876",
   "metadata": {},
   "source": [
    "**Obseravtion**\n",
    "1. We can clearly observe that we got an accuracy of **89 on training data** and **90 on testing data**.\n",
    "2. So we can conclude that our model is having a kind of **best fitting.**"
   ]
  },
  {
   "cell_type": "markdown",
   "id": "edf2b0f4",
   "metadata": {},
   "source": [
    "<div style=\"color:white;\n",
    "           display:fill;\n",
    "           border-radius:5px;\n",
    "           background-color:black;\n",
    "           font-size:200%;\n",
    "           font-family:Serif;\n",
    "           letter-spacing:0.5px\">\n",
    "\n",
    "<p style=\"padding: 10px;\n",
    "          color:white;\n",
    "          font-size:120%;\n",
    "          text-align:center;\">\n",
    "Model Evaluation\n",
    "</p>\n",
    "</div>"
   ]
  },
  {
   "cell_type": "markdown",
   "id": "a77e6ee6",
   "metadata": {},
   "source": [
    "### 1. Mean Sqaured Error."
   ]
  },
  {
   "cell_type": "code",
   "execution_count": 23,
   "id": "1a19baf8",
   "metadata": {},
   "outputs": [
    {
     "data": {
      "text/plain": [
       "3.1379480090683516"
      ]
     },
     "execution_count": 23,
     "metadata": {},
     "output_type": "execute_result"
    }
   ],
   "source": [
    "mean_squared_error(y_test,test_pred)"
   ]
  },
  {
   "cell_type": "markdown",
   "id": "d4cc37cf",
   "metadata": {},
   "source": [
    "### 2. Root Mean Squared Error."
   ]
  },
  {
   "cell_type": "code",
   "execution_count": 24,
   "id": "ce5adedd",
   "metadata": {},
   "outputs": [
    {
     "data": {
      "text/plain": [
       "0.11360135837622083"
      ]
     },
     "execution_count": 24,
     "metadata": {},
     "output_type": "execute_result"
    }
   ],
   "source": [
    "rmse = 0.5**mean_squared_error(y_test,test_pred)\n",
    "rmse"
   ]
  },
  {
   "cell_type": "markdown",
   "id": "e9728a52",
   "metadata": {},
   "source": [
    "### 3. Mean Absolute Error."
   ]
  },
  {
   "cell_type": "code",
   "execution_count": 25,
   "id": "6478064a",
   "metadata": {},
   "outputs": [
    {
     "data": {
      "text/plain": [
       "1.444302313822758"
      ]
     },
     "execution_count": 25,
     "metadata": {},
     "output_type": "execute_result"
    }
   ],
   "source": [
    "mean_absolute_error(y_test,test_pred)"
   ]
  },
  {
   "cell_type": "markdown",
   "id": "9cc61c36",
   "metadata": {},
   "source": [
    "### 4. Mean Absolute Percentage Error."
   ]
  },
  {
   "cell_type": "code",
   "execution_count": 26,
   "id": "41cdb611",
   "metadata": {},
   "outputs": [
    {
     "data": {
      "text/plain": [
       "0.15090256196305074"
      ]
     },
     "execution_count": 26,
     "metadata": {},
     "output_type": "execute_result"
    }
   ],
   "source": [
    "mean_absolute_percentage_error(y_test,test_pred)"
   ]
  },
  {
   "cell_type": "markdown",
   "id": "dc80646d",
   "metadata": {},
   "source": [
    "**Observation**\n",
    "1. A lower **MSE** & **RMSE** values indicates that the model will perform better while predicting future sales.\n",
    "2. Similary the lower value of **MAE** & **MAPE** values indicates that the model will perform better while predicting future sales."
   ]
  },
  {
   "cell_type": "markdown",
   "id": "52138d27",
   "metadata": {},
   "source": [
    "---"
   ]
  },
  {
   "cell_type": "markdown",
   "id": "7d40c75e",
   "metadata": {},
   "source": [
    "<a id=\"1.1\"></a>\n",
    "<h2 style=\"font-family: Verdana; font-size: 28px; font-style: normal; font-weight: normal; text-decoration: none; text-transform: none; letter-spacing: 2px; color: black; background-color: #ffffff;\"><b>Conclusion:-</b>\n",
    " </h2>"
   ]
  },
  {
   "cell_type": "markdown",
   "id": "17dbb496",
   "metadata": {},
   "source": [
    "<div style=\"font-family:Georgia;background-color:aliceblue; padding:30px; font-size:17px\">\n",
    "\n",
    "<b>Sales Price Prediction using Python</b><br>\n",
    "\n",
    "<b>Key-Points</b><br>    \n",
    "💡 First we imported all the neccessary Libraries for model creation then we loaded the dataset.<br>\n",
    "💡 After that we did the basic understanding of the dataset.<br>\n",
    "💡 After that we performed Exploratory Data Analysis.<br>\n",
    "💡 Then we cretaed our Linear Regression Model for Sales Prediction.<br>\n",
    "💡 Then using the Regression model we did the prediction and checked the accuracy of the model.<br>\n",
    "💡 Then we evaluated the Model Performance.<br>\n",
    "💡 Finally we obtained a model with high r2_Score and low MSE,RMSE,MAE,MAPE values.<br>\n",
    "💡 So we can conclude that the model is perfectly created and trained.\n",
    "</div>"
   ]
  },
  {
   "cell_type": "markdown",
   "id": "07072f2c",
   "metadata": {},
   "source": [
    "---"
   ]
  }
 ],
 "metadata": {
  "kernelspec": {
   "display_name": "Python 3 (ipykernel)",
   "language": "python",
   "name": "python3"
  },
  "language_info": {
   "codemirror_mode": {
    "name": "ipython",
    "version": 3
   },
   "file_extension": ".py",
   "mimetype": "text/x-python",
   "name": "python",
   "nbconvert_exporter": "python",
   "pygments_lexer": "ipython3",
   "version": "3.9.12"
  }
 },
 "nbformat": 4,
 "nbformat_minor": 5
}
